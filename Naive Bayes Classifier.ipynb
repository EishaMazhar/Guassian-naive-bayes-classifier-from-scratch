{
 "cells": [
  {
   "cell_type": "code",
   "execution_count": 1,
   "metadata": {},
   "outputs": [],
   "source": [
    "import numpy as np\n",
    "import pandas as pd\n",
    "import math"
   ]
  },
  {
   "cell_type": "code",
   "execution_count": 2,
   "metadata": {},
   "outputs": [],
   "source": [
    "train_df = pd.read_excel('parktraining.xlsx')\n",
    "test_df = pd.read_excel('parktesting.xlsx')"
   ]
  },
  {
   "cell_type": "code",
   "execution_count": 3,
   "metadata": {},
   "outputs": [],
   "source": [
    "x_train, y_train = train_df.iloc[:, :-1], train_df.iloc[:, [-1]]\n",
    "x_test, y_test = test_df.iloc[:, :-1], test_df.iloc[:, [-1]]"
   ]
  },
  {
   "cell_type": "code",
   "execution_count": 4,
   "metadata": {},
   "outputs": [],
   "source": [
    "x_train.columns=x_test.columns=['f1','f2','f3','f4','f5','f6','f7','f8','f9','f10','f11','f12','f13','f14','f15','f16','f17','f18','f19','f20','f21','f22']\n",
    "y_train.columns=y_test.columns=['label']"
   ]
  },
  {
   "cell_type": "code",
   "execution_count": 5,
   "metadata": {},
   "outputs": [
    {
     "data": {
      "text/html": [
       "<div>\n",
       "<style scoped>\n",
       "    .dataframe tbody tr th:only-of-type {\n",
       "        vertical-align: middle;\n",
       "    }\n",
       "\n",
       "    .dataframe tbody tr th {\n",
       "        vertical-align: top;\n",
       "    }\n",
       "\n",
       "    .dataframe thead th {\n",
       "        text-align: right;\n",
       "    }\n",
       "</style>\n",
       "<table border=\"1\" class=\"dataframe\">\n",
       "  <thead>\n",
       "    <tr style=\"text-align: right;\">\n",
       "      <th></th>\n",
       "      <th>label</th>\n",
       "    </tr>\n",
       "  </thead>\n",
       "  <tbody>\n",
       "    <tr>\n",
       "      <td>0</td>\n",
       "      <td>1</td>\n",
       "    </tr>\n",
       "    <tr>\n",
       "      <td>1</td>\n",
       "      <td>1</td>\n",
       "    </tr>\n",
       "    <tr>\n",
       "      <td>2</td>\n",
       "      <td>0</td>\n",
       "    </tr>\n",
       "    <tr>\n",
       "      <td>3</td>\n",
       "      <td>0</td>\n",
       "    </tr>\n",
       "    <tr>\n",
       "      <td>4</td>\n",
       "      <td>0</td>\n",
       "    </tr>\n",
       "    <tr>\n",
       "      <td>...</td>\n",
       "      <td>...</td>\n",
       "    </tr>\n",
       "    <tr>\n",
       "      <td>150</td>\n",
       "      <td>0</td>\n",
       "    </tr>\n",
       "    <tr>\n",
       "      <td>151</td>\n",
       "      <td>0</td>\n",
       "    </tr>\n",
       "    <tr>\n",
       "      <td>152</td>\n",
       "      <td>0</td>\n",
       "    </tr>\n",
       "    <tr>\n",
       "      <td>153</td>\n",
       "      <td>0</td>\n",
       "    </tr>\n",
       "    <tr>\n",
       "      <td>154</td>\n",
       "      <td>0</td>\n",
       "    </tr>\n",
       "  </tbody>\n",
       "</table>\n",
       "<p>155 rows × 1 columns</p>\n",
       "</div>"
      ],
      "text/plain": [
       "     label\n",
       "0        1\n",
       "1        1\n",
       "2        0\n",
       "3        0\n",
       "4        0\n",
       "..     ...\n",
       "150      0\n",
       "151      0\n",
       "152      0\n",
       "153      0\n",
       "154      0\n",
       "\n",
       "[155 rows x 1 columns]"
      ]
     },
     "execution_count": 5,
     "metadata": {},
     "output_type": "execute_result"
    }
   ],
   "source": [
    "y_train"
   ]
  },
  {
   "cell_type": "code",
   "execution_count": 63,
   "metadata": {},
   "outputs": [
    {
     "name": "stderr",
     "output_type": "stream",
     "text": [
      "C:\\Users\\eisha\\Anaconda3\\lib\\site-packages\\sklearn\\utils\\validation.py:724: DataConversionWarning: A column-vector y was passed when a 1d array was expected. Please change the shape of y to (n_samples, ), for example using ravel().\n",
      "  y = column_or_1d(y, warn=True)\n"
     ]
    },
    {
     "data": {
      "text/plain": [
       "0.5789473684210527"
      ]
     },
     "execution_count": 63,
     "metadata": {},
     "output_type": "execute_result"
    }
   ],
   "source": [
    "#using pre-build model\n",
    "\n",
    "from sklearn.naive_bayes import GaussianNB\n",
    "from sklearn.metrics import accuracy_score\n",
    "\n",
    "clf = GaussianNB()\n",
    "clf.fit(x_train, y_train)\n",
    "y_prediction=clf.predict(x_test)\n",
    "\n",
    "accuracy_score(y_test, y_prediction.ravel())"
   ]
  },
  {
   "cell_type": "code",
   "execution_count": 174,
   "metadata": {},
   "outputs": [],
   "source": [
    "class GuassianClassifier:\n",
    "    \n",
    "    def separateCalculationByClassLabel(self, X, y):\n",
    "        \n",
    "        totalObservations=len(y['label'])\n",
    "        \n",
    "        cls, counts = np.unique(y, return_counts=True)\n",
    "        self.class_freq = dict(zip(cls, counts))\n",
    "        \n",
    "        self.prob_0=self.class_freq[0]/totalObservations\n",
    "        \n",
    "        self.prob_1=self.class_freq[1]/totalObservations\n",
    "        \n",
    "        df = pd.concat([X, y], axis=1)\n",
    "\n",
    "        self.meanCls={}\n",
    "        self.varCls={}\n",
    "        \n",
    "        self.aggdf=df.groupby(df['label']).agg([\"mean\", \"var\"])\n",
    "        aggdf = self.aggdf\n",
    "        \n",
    "        for cls in np.unique(y):\n",
    "            self.meanCls[cls]={}\n",
    "            self.varCls[cls]={}\n",
    "            for i in range(1,23):\n",
    "                feature='f{}'.format(i)\n",
    "                self.meanCls[cls][feature]=aggdf.loc[0,(feature,'mean')]\n",
    "                self.varCls[cls][feature]=aggdf.loc[0,(feature,'var')]\n",
    "                \n",
    "                \n",
    "        \n",
    "    def getPriors(self):\n",
    "        return self.prob_0,self.prob_1\n",
    "    \n",
    "    def getClasswiseMeanAndVariance(self):\n",
    "        return self.meanCls, self.varCls\n",
    "    \n",
    "    def probability(self,x):\n",
    "        return\n"
   ]
  },
  {
   "cell_type": "code",
   "execution_count": 171,
   "metadata": {},
   "outputs": [],
   "source": [
    "myClf=GuassianClassifier()\n",
    "\n",
    "myClf.separateCalculationByClassLabel(x_train,y_train)\n"
   ]
  },
  {
   "cell_type": "code",
   "execution_count": 172,
   "metadata": {},
   "outputs": [
    {
     "data": {
      "text/plain": [
       "(0.2709677419354839, 0.7290322580645161)"
      ]
     },
     "execution_count": 172,
     "metadata": {},
     "output_type": "execute_result"
    }
   ],
   "source": [
    "myClf.getPriors()"
   ]
  },
  {
   "cell_type": "code",
   "execution_count": 173,
   "metadata": {},
   "outputs": [
    {
     "name": "stdout",
     "output_type": "stream",
     "text": [
      "               f1                       f2                        f3  \\\n",
      "             mean          var        mean           var        mean   \n",
      "label                                                                  \n",
      "0      179.319333  3130.588739  225.458524  10697.202180  138.184595   \n",
      "1      146.563593  1113.226330  192.026389   9487.165023  108.930796   \n",
      "\n",
      "                          f4                  f5                ...       f18  \\\n",
      "               var      mean       var      mean           var  ...      mean   \n",
      "label                                                           ...             \n",
      "0      3552.855138  0.004109  0.000004  0.000025  2.253008e-10  ...  0.689177   \n",
      "1      1043.860337  0.007351  0.000033  0.000052  1.582159e-09  ...  0.721978   \n",
      "\n",
      "                      f19                 f20                 f21            \\\n",
      "            var      mean       var      mean       var      mean       var   \n",
      "label                                                                         \n",
      "0      0.002672 -6.640653  0.345496  0.158470  0.004516  2.205746  0.069227   \n",
      "1      0.002730 -5.351374  0.948171  0.242608  0.006486  2.460720  0.158374   \n",
      "\n",
      "            f22            \n",
      "           mean       var  \n",
      "label                      \n",
      "0      0.130860  0.001752  \n",
      "1      0.229719  0.006852  \n",
      "\n",
      "[2 rows x 44 columns]\n"
     ]
    },
    {
     "data": {
      "text/plain": [
       "({0: {'f1': 179.3193333333333,\n",
       "   'f2': 225.4585238095238,\n",
       "   'f3': 138.18459523809526,\n",
       "   'f4': 0.0041092857142857155,\n",
       "   'f5': 2.533333333333334e-05,\n",
       "   'f6': 0.0020321428571428565,\n",
       "   'f7': 0.0021666666666666666,\n",
       "   'f8': 0.006097857142857143,\n",
       "   'f9': 0.018588333333333335,\n",
       "   'f10': 0.17257142857142863,\n",
       "   'f11': 0.010092142857142857,\n",
       "   'f12': 0.011028333333333336,\n",
       "   'f13': 0.014034761904761904,\n",
       "   'f14': 0.030277619047619046,\n",
       "   'f15': 0.01290952380952381,\n",
       "   'f16': 23.776833333333336,\n",
       "   'f17': 0.4492624047619048,\n",
       "   'f18': 0.6891774523809522,\n",
       "   'f19': -6.640653452380953,\n",
       "   'f20': 0.15846959523809528,\n",
       "   'f21': 2.205746357142856,\n",
       "   'f22': 0.1308605},\n",
       "  1: {'f1': 179.3193333333333,\n",
       "   'f2': 225.4585238095238,\n",
       "   'f3': 138.18459523809526,\n",
       "   'f4': 0.0041092857142857155,\n",
       "   'f5': 2.533333333333334e-05,\n",
       "   'f6': 0.0020321428571428565,\n",
       "   'f7': 0.0021666666666666666,\n",
       "   'f8': 0.006097857142857143,\n",
       "   'f9': 0.018588333333333335,\n",
       "   'f10': 0.17257142857142863,\n",
       "   'f11': 0.010092142857142857,\n",
       "   'f12': 0.011028333333333336,\n",
       "   'f13': 0.014034761904761904,\n",
       "   'f14': 0.030277619047619046,\n",
       "   'f15': 0.01290952380952381,\n",
       "   'f16': 23.776833333333336,\n",
       "   'f17': 0.4492624047619048,\n",
       "   'f18': 0.6891774523809522,\n",
       "   'f19': -6.640653452380953,\n",
       "   'f20': 0.15846959523809528,\n",
       "   'f21': 2.205746357142856,\n",
       "   'f22': 0.1308605}},\n",
       " {0: {'f1': 3130.5887389593504,\n",
       "   'f2': 10697.202180401859,\n",
       "   'f3': 3552.8551382468086,\n",
       "   'f4': 4.33233362369338e-06,\n",
       "   'f5': 2.253008130081301e-10,\n",
       "   'f6': 1.1993733449477356e-06,\n",
       "   'f7': 9.127300813008131e-07,\n",
       "   'f8': 1.0798163588850173e-05,\n",
       "   'f9': 2.727932154471545e-05,\n",
       "   'f10': 0.0030598118466898952,\n",
       "   'f11': 1.079396846689895e-05,\n",
       "   'f12': 9.658336178861792e-06,\n",
       "   'f13': 1.2262888966318239e-05,\n",
       "   'f14': 9.71454137049942e-05,\n",
       "   'f15': 0.0004008825070847851,\n",
       "   'f16': 6.23483750813009,\n",
       "   'f17': 0.009047144393515104,\n",
       "   'f18': 0.0026716621316196293,\n",
       "   'f19': 0.34549643002796127,\n",
       "   'f20': 0.004516293550344367,\n",
       "   'f21': 0.06922659883647905,\n",
       "   'f22': 0.0017520552194756093},\n",
       "  1: {'f1': 3130.5887389593504,\n",
       "   'f2': 10697.202180401859,\n",
       "   'f3': 3552.8551382468086,\n",
       "   'f4': 4.33233362369338e-06,\n",
       "   'f5': 2.253008130081301e-10,\n",
       "   'f6': 1.1993733449477356e-06,\n",
       "   'f7': 9.127300813008131e-07,\n",
       "   'f8': 1.0798163588850173e-05,\n",
       "   'f9': 2.727932154471545e-05,\n",
       "   'f10': 0.0030598118466898952,\n",
       "   'f11': 1.079396846689895e-05,\n",
       "   'f12': 9.658336178861792e-06,\n",
       "   'f13': 1.2262888966318239e-05,\n",
       "   'f14': 9.71454137049942e-05,\n",
       "   'f15': 0.0004008825070847851,\n",
       "   'f16': 6.23483750813009,\n",
       "   'f17': 0.009047144393515104,\n",
       "   'f18': 0.0026716621316196293,\n",
       "   'f19': 0.34549643002796127,\n",
       "   'f20': 0.004516293550344367,\n",
       "   'f21': 0.06922659883647905,\n",
       "   'f22': 0.0017520552194756093}})"
      ]
     },
     "execution_count": 173,
     "metadata": {},
     "output_type": "execute_result"
    }
   ],
   "source": [
    "myClf.getClasswiseMeanAndVariance()"
   ]
  },
  {
   "cell_type": "code",
   "execution_count": null,
   "metadata": {},
   "outputs": [],
   "source": []
  }
 ],
 "metadata": {
  "kernelspec": {
   "display_name": "Python 3",
   "language": "python",
   "name": "python3"
  },
  "language_info": {
   "codemirror_mode": {
    "name": "ipython",
    "version": 3
   },
   "file_extension": ".py",
   "mimetype": "text/x-python",
   "name": "python",
   "nbconvert_exporter": "python",
   "pygments_lexer": "ipython3",
   "version": "3.7.4"
  }
 },
 "nbformat": 4,
 "nbformat_minor": 2
}
